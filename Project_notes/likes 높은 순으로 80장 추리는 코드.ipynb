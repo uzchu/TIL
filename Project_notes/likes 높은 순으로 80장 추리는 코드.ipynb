{
 "cells": [
  {
   "cell_type": "markdown",
   "metadata": {},
   "source": [
    "파일명이 **'username_번호_좋아요 숫자_Likes.png'** 인 경우(ex)lovetomoon78_001_151245Likes.png)에  \n",
    "좋아요 숫자가 **높은 순**으로 **80장**만 뽑아서 저장하기 위한 코드입니다"
   ]
  },
  {
   "cell_type": "code",
   "execution_count": 8,
   "metadata": {},
   "outputs": [],
   "source": [
    "import glob\n",
    "import shutil\n",
    "import os"
   ]
  },
  {
   "cell_type": "code",
   "execution_count": 100,
   "metadata": {},
   "outputs": [],
   "source": [
    "dir_path = 'C:/Users/USER/Trip_Fashion_Recommend/data' #파일들을 저장할 폴더를 만들 위치\n",
    "dir_name = '/pictures_lovetomoon78/' #새로 저장할 폴더명(여기선 기존 폴더명과 일치함)\n",
    "os.mkdir(dir_path + dir_name) #폴더 생성"
   ]
  },
  {
   "cell_type": "code",
   "execution_count": 101,
   "metadata": {},
   "outputs": [
    {
     "data": {
      "text/plain": [
       "150"
      ]
     },
     "execution_count": 101,
     "metadata": {},
     "output_type": "execute_result"
    }
   ],
   "source": [
    "images= glob.glob('.'+dir_name+'*.png') #기존 폴더 내에 있는 모든 사진을 가져오기\n",
    "len(images) #처리 전 몇개인지 + 잘 불러와졌나 확인"
   ]
  },
  {
   "cell_type": "code",
   "execution_count": 102,
   "metadata": {},
   "outputs": [],
   "source": [
    "likes = []\n",
    "for fname in images: #위에서 불러온 파일리스트에서 한개씩 반복문 수행\n",
    "    like = fname[fname.rfind('_')+1:-9] #rfind는 뒤에서부터 해당 문자를 찾아인덱스를 반환해주는 함수.\n",
    "                                        #숫자만 뽑기위해 '_'의 인덱스에 +1 : -9 ('Likes.png' 제거)\n",
    "    likes.append(int(like)) #정렬을 위해 숫자로 변경\n",
    "    \n",
    "likes.sort(reverse=True) #내림차순으로 정렬\n",
    "likes = likes[0:80] #앞에서부터 80개만\n",
    "\n",
    "for fname in images:\n",
    "    if int(fname[fname.rfind('_')+1:-9]) in likes: #파일명에서 추출한 좋아요 수가 likes 안에 있다면\n",
    "        shutil.copy(fname,dir_path + dir_name) #그 파일은 dir_path + dir_name 폴더로 복사해라\n",
    "    else:\n",
    "        pass"
   ]
  }
 ],
 "metadata": {
  "kernelspec": {
   "display_name": "Python 3",
   "language": "python",
   "name": "python3"
  },
  "language_info": {
   "codemirror_mode": {
    "name": "ipython",
    "version": 3
   },
   "file_extension": ".py",
   "mimetype": "text/x-python",
   "name": "python",
   "nbconvert_exporter": "python",
   "pygments_lexer": "ipython3",
   "version": "3.7.4"
  }
 },
 "nbformat": 4,
 "nbformat_minor": 2
}
